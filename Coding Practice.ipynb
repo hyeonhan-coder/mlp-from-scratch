{
 "cells": [
  {
   "cell_type": "code",
   "execution_count": 14,
   "id": "79c2c47a-c925-4446-83f6-6320005192c4",
   "metadata": {},
   "outputs": [
    {
     "data": {
      "text/plain": [
       "[1, 2, 3]"
      ]
     },
     "execution_count": 14,
     "metadata": {},
     "output_type": "execute_result"
    }
   ],
   "source": [
    "#리스트\n",
    "a=[1,2,3,4,5] #[]안의 요소의 수를 인덱스라 부르고 0부터 시작\n",
    "a[-3:] #원소에 접근하는 것 a[], 인덱스 -3부터 끝까지 얻기\n",
    "a[:3] #3에 해당하는 \"4\"는 포함하지 않는다"
   ]
  },
  {
   "cell_type": "code",
   "execution_count": 17,
   "id": "1d5d1d8b-5bdc-4d12-870d-f2a7a3823131",
   "metadata": {},
   "outputs": [
    {
     "name": "stdout",
     "output_type": "stream",
     "text": [
      "{'looks': 'good', 'height': 180}\n"
     ]
    }
   ],
   "source": [
    "#딕셔너리 saves key and value at the same time, which is similar to Dictionary\n",
    "me={\"looks\":\"good\"}\n",
    "me[\"looks\"] #인덱스가 무용지물, key값으로 인덱스를 대신한다\n",
    "me[\"height\"]=180\n",
    "print(me)"
   ]
  },
  {
   "cell_type": "code",
   "execution_count": 25,
   "id": "e7c0a48c-a08b-41ce-ac4d-5dacb788495f",
   "metadata": {},
   "outputs": [
    {
     "name": "stdout",
     "output_type": "stream",
     "text": [
      "True\n",
      "False\n"
     ]
    },
    {
     "data": {
      "text/plain": [
       "False"
      ]
     },
     "execution_count": 25,
     "metadata": {},
     "output_type": "execute_result"
    }
   ],
   "source": [
    "#bool 값으로 True 혹은 False만 취함\n",
    "#and or not 연산자 사용 가능\n",
    "Tall=True\n",
    "Tree=False\n",
    "type(Tall)\n",
    "print(Tall or Tree)\n",
    "print(Tall and Tree)\n",
    "not Tall"
   ]
  },
  {
   "cell_type": "code",
   "execution_count": 31,
   "id": "dc1857d8-18dd-44f8-8cbe-af2275e7834e",
   "metadata": {},
   "outputs": [
    {
     "name": "stdout",
     "output_type": "stream",
     "text": [
      "I'm not hungry\n"
     ]
    }
   ],
   "source": [
    "hungry=False\n",
    "if hungry:\n",
    "    print(\"I'm hungry\")\n",
    "else: print(\"I'm not hungry\") #True일때 출력"
   ]
  },
  {
   "cell_type": "code",
   "execution_count": null,
   "id": "e4237d23-adad-4c3f-9691-fd51fcdee00d",
   "metadata": {},
   "outputs": [],
   "source": []
  }
 ],
 "metadata": {
  "kernelspec": {
   "display_name": "Python 3 (ipykernel)",
   "language": "python",
   "name": "python3"
  },
  "language_info": {
   "codemirror_mode": {
    "name": "ipython",
    "version": 3
   },
   "file_extension": ".py",
   "mimetype": "text/x-python",
   "name": "python",
   "nbconvert_exporter": "python",
   "pygments_lexer": "ipython3",
   "version": "3.13.5"
  }
 },
 "nbformat": 4,
 "nbformat_minor": 5
}
